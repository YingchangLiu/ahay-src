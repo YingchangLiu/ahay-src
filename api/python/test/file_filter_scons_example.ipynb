{
 "cells": [
  {
   "cell_type": "markdown",
   "metadata": {},
   "source": [
    "# Example showing how mix python and madagascar processing #\n",
    "\n",
    "This notebook:\n",
    "    * creates spike.rsf data using sfspike abnd sfbandlimit\n",
    "    * opens the spike.rsf file as input\n",
    "    * open a new clip.rsf file as output\n",
    "    * one trace at a time, read, clip, write\n",
    "    * repeats this processing using the File class\n",
    "    * shows how to create and sconstruct file and use it\n",
    "    \n",
    "The notebook can be run in Python 3 (using git updates from m8r.py and doc.py on July 27, 2018)\n",
    "and Madagascar built with Python 2.  m8r.py has been tested for both Python 2 and Python 3."
   ]
  },
  {
   "cell_type": "markdown",
   "metadata": {},
   "source": [
    "# First initialize.  \n",
    "Import os, numpy, matplotlib, matplotlib.pyplot, and m8r"
   ]
  },
  {
   "cell_type": "code",
   "execution_count": null,
   "metadata": {},
   "outputs": [],
   "source": [
    "import os\n",
    "import numpy as np\n",
    "import matplotlib\n",
    "# use the nbagg backend to render plot.  It provides basic zoom and pan capability.\n",
    "matplotlib.use('nbagg') # previously I used this magic command: %matplotlib inline\n",
    "# I think import matplotlib.pyplot must be after matplotlib.use('nbagg') \n",
    "import matplotlib.pyplot as plt\n",
    "\n",
    "#m8r library provides read and write of madagascar data\n",
    "import m8r "
   ]
  },
  {
   "cell_type": "code",
   "execution_count": null,
   "metadata": {},
   "outputs": [],
   "source": [
    "os.system('sfspike n1=1000 n2=100 n3=10 nsp=1 k1=500 | sfbandpass fhi=20 phase=y > spike.rsf') "
   ]
  },
  {
   "cell_type": "code",
   "execution_count": null,
   "metadata": {},
   "outputs": [],
   "source": [
    "inp  = m8r.Input('spike.rsf')\n",
    "output = m8r.Output('clip.rsf')\n",
    "\n",
    "n1 = inp.int(\"n1\")\n",
    "n2 = inp.size(1)\n",
    "\n",
    "clip = 0.05\n",
    "\n",
    "for i2 in xrange(n2): # loop over traces\n",
    "    # read one trace using the shape parameter\n",
    "    # data type comes from input file.  This data is single precision float\n",
    "    trace=inp.read(shape=(n1))\n",
    "    trace=np.clip(trace,-clip,clip)\n",
    "    output.write(trace)\n",
    "output.close()"
   ]
  },
  {
   "cell_type": "markdown",
   "metadata": {},
   "source": [
    "# Process spike.rsf using M8r.File class\n",
    "inp is now a m8r.file object\n",
    "\n",
    "trace=inp[:,i2,i3] creates an ndarray of the trace at location i2,l3"
   ]
  },
  {
   "cell_type": "code",
   "execution_count": null,
   "metadata": {},
   "outputs": [],
   "source": [
    "inp = m8r.File('spike.rsf')\n",
    "output = m8r.Output('clip.rsf')\n",
    "\n",
    "clip = 0.05\n",
    "\n",
    "# python     indicies are slowest to fastest.  \n",
    "# Madagascar indicies are fastest to slowest\n",
    "n3,n2,n1 = inp.shape()\n",
    "\n",
    "output.put(\"n1\",n1)\n",
    "output.put(\"n2\",n2)\n",
    "output.put(\"n3\",n3)\n",
    "\n",
    "for i3 in xrange(n3): # loop over slices\n",
    "    for i2 in xrange(n2): # loop over traces\n",
    "        trace=inp[i3,i2,:]\n",
    "        trace = np.clip(trace,-clip,clip)\n",
    "        output.write(trace)"
   ]
  },
  {
   "cell_type": "code",
   "execution_count": null,
   "metadata": {},
   "outputs": [],
   "source": [
    "# inp is a File object:\n",
    "type(inp)"
   ]
  },
  {
   "cell_type": "code",
   "execution_count": null,
   "metadata": {},
   "outputs": [],
   "source": [
    "# the file object can be sliced to create one dimention numpy ndarray\n",
    "trace=inp[0,0,:]\n",
    "print ('inp.shape(0)='+repr(inp.shape()))"
   ]
  },
  {
   "cell_type": "code",
   "execution_count": null,
   "metadata": {},
   "outputs": [],
   "source": [
    "# file objects have the method min, max, mean\n",
    "(inp.min(),inp.max(),inp.mean())"
   ]
  },
  {
   "cell_type": "code",
   "execution_count": null,
   "metadata": {},
   "outputs": [],
   "source": [
    "# plot spike.rsf using sfwiggle\n",
    "os.system('sfwiggle <spike.rsf | sfpen&')\n",
    "# plot clip.rsf using sfwiggle\n",
    "os.system('sfwiggle <clip.rsf | sfpen&')"
   ]
  },
  {
   "cell_type": "code",
   "execution_count": null,
   "metadata": {},
   "outputs": [],
   "source": [
    "# Any terminal command can be run in jupyter by prefixing it with the ! character.\n",
    "!sfwiggle <spike.rsf | sfpen"
   ]
  },
  {
   "cell_type": "code",
   "execution_count": null,
   "metadata": {},
   "outputs": [],
   "source": [
    "# appending [:] to the end of a File object converts to a numpy array.\n",
    "print('type(inp[:]='+repr(type(inp[:])) +'   inp[:].shape='+repr(inp[:].shape))"
   ]
  },
  {
   "cell_type": "code",
   "execution_count": null,
   "metadata": {},
   "outputs": [],
   "source": [
    "# you can convert a file to numpy array and use numpy function np.clip\n",
    "clipped = np.clip(inp[:],-clip,clip)\n",
    "# and convert a numpy array to a File object. Filename is temporary.  \n",
    "clipfile = m8r.File(clipped)"
   ]
  },
  {
   "cell_type": "code",
   "execution_count": null,
   "metadata": {},
   "outputs": [],
   "source": [
    "clipfile.disfil\n"
   ]
  },
  {
   "cell_type": "code",
   "execution_count": null,
   "metadata": {},
   "outputs": [],
   "source": [
    "#madagascar programs can be called using m8r.py filters.  Filters can be chained:\n",
    "clipfile = m8r.bandpass(fhi=2).clip(clip=0.05)[inp]"
   ]
  },
  {
   "cell_type": "code",
   "execution_count": null,
   "metadata": {},
   "outputs": [],
   "source": [
    "#smooth division of clipfile by inp:\n",
    "added = m8r.divn(rect1=10,den=inp)[clipfile]"
   ]
  },
  {
   "cell_type": "code",
   "execution_count": null,
   "metadata": {},
   "outputs": [],
   "source": [
    "#select a line from a 3D volume and plot:\n",
    "sliced = m8r.window(n3=1)[clipfile]\n",
    "sliced.grey(title='Slice')"
   ]
  },
  {
   "cell_type": "code",
   "execution_count": null,
   "metadata": {},
   "outputs": [],
   "source": [
    "# to run scons first create the SConstruct file:"
   ]
  },
  {
   "cell_type": "code",
   "execution_count": null,
   "metadata": {},
   "outputs": [],
   "source": [
    "%%file test.scons\n",
    "\n",
    "Flow('spike2','spike','math output=\"exp(input)\"')\n",
    "\n",
    "Result('spike2','window n3=1 f3=5 | grey title=\"Exp\" pclip=100 allpos=y')"
   ]
  },
  {
   "cell_type": "code",
   "execution_count": null,
   "metadata": {},
   "outputs": [],
   "source": [
    "#then run using m8r.view\n",
    "m8r.view('spike2')"
   ]
  },
  {
   "cell_type": "code",
   "execution_count": null,
   "metadata": {},
   "outputs": [],
   "source": [
    "#you can creae a .c file and compile it to make a program"
   ]
  },
  {
   "cell_type": "code",
   "execution_count": null,
   "metadata": {},
   "outputs": [],
   "source": [
    "%%file clip.c\n",
    "\n",
    "/* Clip the data. */\n",
    "\n",
    "#include <rsf.h>\n",
    "\n",
    "int main(int argc, char* argv[])\n",
    "{\n",
    "    int n1, n2, i1, i2;\n",
    "    float clip, *trace;\n",
    "    sf_file in, out; /* Input and output files */\n",
    "\n",
    "    /* Initialize RSF */\n",
    "    sf_init(argc,argv);\n",
    "    /* standard input */\n",
    "    in  = sf_input(\"in\");\n",
    "    /* standard output */\n",
    "    out = sf_output(\"out\");\n",
    "\n",
    "    /* check that the input is float */\n",
    "    if (SF_FLOAT != sf_gettype(in)) \n",
    "\tsf_error(\"Need float input\");\n",
    "\n",
    "    /* n1 is the fastest dimension (trace length) */\n",
    "    if (!sf_histint(in,\"n1\",&n1)) \n",
    "\tsf_error(\"No n1= in input\");\n",
    "    /* leftsize gets n2*n3*n4*... (the number of traces) */\n",
    "    n2 = sf_leftsize(in,1);\n",
    "\n",
    "    /* parameter from the command line (i.e. clip=1.5 ) */\n",
    "    if (!sf_getfloat(\"clip\",&clip)) sf_error(\"Need clip=\");\n",
    "\n",
    "    /* allocate floating point array */\n",
    "    trace = sf_floatalloc (n1);\n",
    "\n",
    "    /* loop over traces */\n",
    "    for (i2=0; i2 < n2; i2++) {\n",
    "\n",
    "\t/* read a trace */\n",
    "\tsf_floatread(trace,n1,in);\n",
    "\n",
    "\t/* loop over samples */\n",
    "\tfor (i1=0; i1 < n1; i1++) {\n",
    "\t    if      (trace[i1] >  clip) trace[i1]= clip;\n",
    "\t    else if (trace[i1] < -clip) trace[i1]=-clip;\n",
    "\t}\n",
    "\n",
    "\t/* write a trace */\n",
    "\tsf_floatwrite(trace,n1,out);\n",
    "    }\n",
    "\n",
    "\n",
    "    exit(0);\n",
    "}"
   ]
  },
  {
   "cell_type": "code",
   "execution_count": null,
   "metadata": {},
   "outputs": [],
   "source": [
    "m8r.Fetch('shots.hh','shots')"
   ]
  },
  {
   "cell_type": "code",
   "execution_count": null,
   "metadata": {},
   "outputs": [],
   "source": [
    "m8r.view('spike2')"
   ]
  },
  {
   "cell_type": "code",
   "execution_count": null,
   "metadata": {},
   "outputs": [],
   "source": [
    "inp.close()\n",
    "inp=m8r.Input(\"spike.rsf\")\n",
    "alltraces=inp.read()\n"
   ]
  },
  {
   "cell_type": "code",
   "execution_count": null,
   "metadata": {},
   "outputs": [],
   "source": [
    "# remove '#' on next line to dump part of the data\n",
    "#alltraces"
   ]
  },
  {
   "cell_type": "code",
   "execution_count": null,
   "metadata": {},
   "outputs": [],
   "source": [
    "traces = m8r.put(d1=0.004,d2=0.1)[m8r.File(alltraces)]"
   ]
  },
  {
   "cell_type": "code",
   "execution_count": null,
   "metadata": {
    "scrolled": true
   },
   "outputs": [],
   "source": [
    "#select a 2D slice from the 3D array alltraces, plot it with imshow seismic data - fastest axis down\n",
    "plt.imshow(alltraces[0,:,:].T,aspect='auto')\n",
    "plt.show()\n",
    "\n",
    "#experiment with zoom plot "
   ]
  },
  {
   "cell_type": "code",
   "execution_count": null,
   "metadata": {},
   "outputs": [],
   "source": [
    "patch = m8r.patch(w=[200,50,5],p=[4,2,2])[inp]\n",
    "inp2 = m8r.patch(inv=True,weight=True)[patch]"
   ]
  },
  {
   "cell_type": "code",
   "execution_count": null,
   "metadata": {},
   "outputs": [],
   "source": [
    "inp2.shape()"
   ]
  },
  {
   "cell_type": "code",
   "execution_count": null,
   "metadata": {},
   "outputs": [],
   "source": [
    "allclip = np.clip(alltraces,-clip,clip)\n",
    "#select a 2D slice from the 3D array alltraces, plot it with imshow seismic data - fastest axis down\n",
    "plt.imshow(allclip[0,:,:].T,aspect='auto')\n",
    "plt.show()\n",
    "\n",
    "#experiment with zoom plot "
   ]
  },
  {
   "cell_type": "code",
   "execution_count": null,
   "metadata": {},
   "outputs": [],
   "source": []
  }
 ],
 "metadata": {
  "kernelspec": {
   "display_name": "Python 2",
   "language": "python",
   "name": "python2"
  },
  "language_info": {
   "codemirror_mode": {
    "name": "ipython",
    "version": 2
   },
   "file_extension": ".py",
   "mimetype": "text/x-python",
   "name": "python",
   "nbconvert_exporter": "python",
   "pygments_lexer": "ipython2",
   "version": "2.7.15"
  }
 },
 "nbformat": 4,
 "nbformat_minor": 2
}
